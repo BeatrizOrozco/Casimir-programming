{
 "cells": [
  {
   "cell_type": "code",
   "execution_count": 70,
   "id": "763a27d7",
   "metadata": {},
   "outputs": [],
   "source": [
    "import numpy as np\n",
    "from PIL import Image\n",
    "import scipy"
   ]
  },
  {
   "cell_type": "code",
   "execution_count": 71,
   "id": "df3bc528",
   "metadata": {},
   "outputs": [],
   "source": [
    "# Read the image\n",
    "img = np.array(Image.open('blobs.tif'))"
   ]
  },
  {
   "cell_type": "code",
   "execution_count": 72,
   "id": "ddaccb28",
   "metadata": {},
   "outputs": [],
   "source": [
    "# Define the threshold value\n",
    "threshold = 100\n",
    "\n",
    "min_size = 500"
   ]
  },
  {
   "cell_type": "code",
   "execution_count": 73,
   "id": "974e4cd6",
   "metadata": {},
   "outputs": [],
   "source": [
    "# Threshold the image to create a binary image\n",
    "binary_img = np.zeros_like(img)\n",
    "binary_img[img > threshold] = 1"
   ]
  },
  {
   "cell_type": "code",
   "execution_count": 74,
   "id": "23650462",
   "metadata": {},
   "outputs": [],
   "source": [
    "# Label the connected components in the binary image\n",
    "label_img, num_labels = scipy.ndimage.label(binary_img)"
   ]
  },
  {
   "cell_type": "code",
   "execution_count": 75,
   "id": "5de15cc8",
   "metadata": {},
   "outputs": [],
   "source": [
    "# Find the properties of each connected component\n",
    "props = regionprops(label_img, intensity_image=img)"
   ]
  },
  {
   "cell_type": "code",
   "execution_count": 76,
   "id": "d691c4c8",
   "metadata": {},
   "outputs": [],
   "source": [
    "# Filter the connected components by tone value\n",
    "#filtered_props = [prop for prop in props if prop.mean_intensity > threshold]\n",
    "\n",
    "# Filter the connected components by tone value and size\n",
    "filtered_props = [prop for prop in props if prop.mean_intensity > threshold and prop.area > min_size]"
   ]
  },
  {
   "cell_type": "code",
   "execution_count": 77,
   "id": "b0c0e67a",
   "metadata": {},
   "outputs": [
    {
     "name": "stdout",
     "output_type": "stream",
     "text": [
      "Number of identified objects: 20\n"
     ]
    }
   ],
   "source": [
    "# Count the number of identified objects\n",
    "num_objects = len(filtered_props)\n",
    "print(f'Number of identified objects: {num_objects}')"
   ]
  },
  {
   "cell_type": "code",
   "execution_count": 78,
   "id": "5fd1b9d4",
   "metadata": {},
   "outputs": [
    {
     "name": "stdout",
     "output_type": "stream",
     "text": [
      "Size of identified objects: [709, 501, 552, 730, 571, 551, 754, 597, 674, 712, 656, 982, 513, 709, 641, 551, 671, 596, 606, 924]\n"
     ]
    }
   ],
   "source": [
    "# Determine the size of the identified objects\n",
    "object_sizes = [prop.area for prop in filtered_props]\n",
    "print(f'Size of identified objects: {object_sizes}')"
   ]
  },
  {
   "cell_type": "code",
   "execution_count": 79,
   "id": "3399bc9a",
   "metadata": {},
   "outputs": [],
   "source": [
    "# Create a new image with the filtered objects\n",
    "filtered_img = np.zeros_like(img)\n",
    "for prop in filtered_props:\n",
    "    filtered_img[label_img == prop.label] = 65535\n",
    "\n",
    "# Display the result\n",
    "Image.fromarray(filtered_img).show()"
   ]
  },
  {
   "cell_type": "code",
   "execution_count": 80,
   "id": "f24b9e89",
   "metadata": {},
   "outputs": [],
   "source": [
    "# convert the code above into a function\n",
    "\n",
    "import numpy as np\n",
    "from PIL import Image\n",
    "from scipy import ndimage\n",
    "from skimage import measure\n",
    "\n",
    "def identify_objects_above_threshold(image_path, threshold, min_size):\n",
    "    # Read the image\n",
    "    img = np.array(Image.open(image_path))\n",
    "\n",
    "    # Threshold the image to create a binary image\n",
    "    binary_img = np.zeros_like(img)\n",
    "    binary_img[img > threshold] = 1\n",
    "\n",
    "    # Label the connected components in the binary image\n",
    "    label_img, num_labels = scipy.ndimage.label(binary_img)\n",
    "\n",
    "    # Find the properties of each connected component\n",
    "    props = measure.regionprops(label_img, intensity_image=img)\n",
    "\n",
    "    # Filter the connected components by tone value and size\n",
    "    filtered_props = [prop for prop in props if prop.mean_intensity > threshold and prop.area > min_size]\n",
    "\n",
    "    # Count the number of identified objects\n",
    "    num_objects = len(filtered_props)\n",
    "\n",
    "    # Determine the size of the identified objects\n",
    "    object_sizes = [prop.area for prop in filtered_props]\n",
    "\n",
    "    # Create a new image with the filtered objects\n",
    "    filtered_img = np.zeros_like(img)\n",
    "    for prop in filtered_props:\n",
    "        filtered_img[label_img == prop.label] = 65535\n",
    "\n",
    "    return num_objects, object_sizes, filtered_img\n"
   ]
  },
  {
   "cell_type": "code",
   "execution_count": 82,
   "id": "017ac02d",
   "metadata": {},
   "outputs": [
    {
     "name": "stdout",
     "output_type": "stream",
     "text": [
      "Number of identified objects: 10\n",
      "Size of identified objects: [791, 1300, 1820, 584, 3946, 877, 690, 600, 596, 998]\n"
     ]
    }
   ],
   "source": [
    "num_objects, object_sizes, filtered_img = identify_objects_above_threshold('FluorescentCells (1).tif', 100, 500)\n",
    "print(f'Number of identified objects: {num_objects}')\n",
    "print(f'Size of identified objects: {object_sizes}')\n",
    "Image.fromarray(filtered_img).show()"
   ]
  },
  {
   "cell_type": "code",
   "execution_count": null,
   "id": "89357a54",
   "metadata": {},
   "outputs": [],
   "source": []
  }
 ],
 "metadata": {
  "kernelspec": {
   "display_name": "Python 3 (ipykernel)",
   "language": "python",
   "name": "python3"
  },
  "language_info": {
   "codemirror_mode": {
    "name": "ipython",
    "version": 3
   },
   "file_extension": ".py",
   "mimetype": "text/x-python",
   "name": "python",
   "nbconvert_exporter": "python",
   "pygments_lexer": "ipython3",
   "version": "3.9.12"
  }
 },
 "nbformat": 4,
 "nbformat_minor": 5
}
